{
 "cells": [
  {
   "cell_type": "code",
   "execution_count": 1,
   "metadata": {},
   "outputs": [
    {
     "name": "stdout",
     "output_type": "stream",
     "text": [
      "BMI:  24.61810377477591\n",
      "Normal (healthy weight)\n"
     ]
    }
   ],
   "source": [
    "weight = 78 #in KG\n",
    "height = 178 #in CM\n",
    "BMI = weight / ((height/100) ** 2 ) #height in Meter\n",
    "print ('BMI: ', BMI)\n",
    "\n",
    "if BMI < 15:\n",
    "    print ('Very severely underweight')\n",
    "elif (BMI >= 15) and (BMI < 16):\n",
    "    print ('Severely underweight')\n",
    "elif (BMI >= 16) and (BMI < 18.5):\n",
    "    print ('Underweight')\n",
    "elif (BMI >= 18.5) and (BMI < 25):\n",
    "    print ('Normal (healthy weight)')\n",
    "elif (BMI >= 25) and (BMI < 30):\n",
    "    print ('Overweight')\n",
    "elif (BMI >= 30) and (BMI < 35):\n",
    "    print ('Moderately obese')\n",
    "elif (BMI >= 35) and (BMI < 40):\n",
    "    print ('Severely obese')\n",
    "else:\n",
    "    print ('Very severely obese')\n"
   ]
  },
  {
   "cell_type": "markdown",
   "metadata": {},
   "source": [
    "https://elisa.ugm.ac.id/community/show/1000digitalent-big-data\n"
   ]
  }
 ],
 "metadata": {
  "kernelspec": {
   "display_name": "Python 3",
   "language": "python",
   "name": "python3"
  },
  "language_info": {
   "codemirror_mode": {
    "name": "ipython",
    "version": 3
   },
   "file_extension": ".py",
   "mimetype": "text/x-python",
   "name": "python",
   "nbconvert_exporter": "python",
   "pygments_lexer": "ipython3",
   "version": "3.7.0"
  }
 },
 "nbformat": 4,
 "nbformat_minor": 2
}
