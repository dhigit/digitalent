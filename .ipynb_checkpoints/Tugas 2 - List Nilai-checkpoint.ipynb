{
 "cells": [
  {
   "cell_type": "markdown",
   "metadata": {},
   "source": [
    "# Tugas List Nilai"
   ]
  },
  {
   "cell_type": "markdown",
   "metadata": {},
   "source": [
    "# Random Generator"
   ]
  },
  {
   "cell_type": "code",
   "execution_count": 1,
   "metadata": {},
   "outputs": [
    {
     "name": "stdout",
     "output_type": "stream",
     "text": [
      "Nilai Tugas: \n",
      "[76, 76, 30, 1, 44, 35, 4, 14, 48, 69, 18, 87, 92, 20, 72, 54, 53, 61, 93, 34, 34, 48, 74, 79, 83, 62, 7, 12, 63, 95, 87, 93, 81, 82, 62, 4, 83, 19, 15, 10, 55, 13, 59, 68, 2, 58, 56, 22, 8, 27, 55, 3, 8, 16, 42, 13, 46, 41, 44, 21, 69, 55, 62, 75, 5, 85, 47, 61, 35, 62, 74, 20, 87, 45, 38, 14, 7, 59, 13, 81, 30, 7, 10, 72, 6, 3, 78, 71, 90, 60, 3, 55, 77, 4, 85, 83, 50, 87, 67, 31, 41, 77, 13, 8, 65, 33, 33, 66, 11, 9, 94, 7, 14, 60, 24, 37, 74, 21, 54, 25, 60, 93, 8, 24, 48, 65, 39, 26, 89, 80, 42, 79, 29, 59, 91, 82, 19, 14, 45, 72, 53, 94, 52, 19, 49, 3, 10, 82, 89, 80, 69, 28, 55, 50, 82, 90, 54, 72, 18, 77, 15, 43, 48, 69, 75, 4, 88, 63, 7, 64, 51, 94, 31, 58, 8, 41, 55, 56, 67, 84, 25, 69, 13, 35, 22, 68, 50, 90, 38, 78, 66, 12, 72, 86, 36, 43, 79, 17, 59, 64, 79, 80, 9, 52, 2, 88, 45, 68, 30, 67, 71, 57, 11, 1, 83, 10, 40, 18, 89, 39, 80, 24, 81, 99, 26, 40, 77, 74, 34, 90, 97, 68, 88, 69, 52, 44, 64, 9, 1, 30, 97, 63, 78, 1, 37, 23, 86, 78, 95, 38]\n"
     ]
    }
   ],
   "source": [
    "import random\n",
    "\n",
    "# GENERATE RANDOM\n",
    "nilaiTugas = []\n",
    "for i in range(250):\n",
    "    nilaiTugas.append(random.randrange(1,100,1))\n",
    "\n",
    "print('Nilai Tugas: ')\n",
    "print(nilaiTugas)"
   ]
  },
  {
   "cell_type": "markdown",
   "metadata": {},
   "source": [
    "# Mencari Bilangan Ganjil"
   ]
  },
  {
   "cell_type": "code",
   "execution_count": 2,
   "metadata": {},
   "outputs": [
    {
     "name": "stdout",
     "output_type": "stream",
     "text": [
      "\n",
      "Nilai Ganjil:\n",
      "[1, 35, 69, 87, 53, 61, 93, 79, 83, 7, 63, 95, 87, 93, 81, 83, 19, 15, 55, 13, 59, 27, 55, 3, 13, 41, 21, 69, 55, 75, 5, 85, 47, 61, 35, 87, 45, 7, 59, 13, 81, 7, 3, 71, 3, 55, 77, 85, 83, 87, 67, 31, 41, 77, 13, 65, 33, 33, 11, 9, 7, 37, 21, 25, 93, 65, 39, 89, 79, 29, 59, 91, 19, 45, 53, 19, 49, 3, 89, 69, 55, 77, 15, 43, 69, 75, 63, 7, 51, 31, 41, 55, 67, 25, 69, 13, 35, 43, 79, 17, 59, 79, 9, 45, 67, 71, 57, 11, 1, 83, 89, 39, 81, 99, 77, 97, 69, 9, 1, 97, 63, 1, 37, 23, 95]\n"
     ]
    }
   ],
   "source": [
    "nilaiGanjil = []\n",
    "for x in nilaiTugas:\n",
    "    if (x%2==1):\n",
    "        nilaiGanjil.append(x)\n",
    "\n",
    "print('\\nNilai Ganjil:')\n",
    "print(nilaiGanjil)"
   ]
  },
  {
   "cell_type": "markdown",
   "metadata": {},
   "source": [
    "# Mencari Nilai Lebih dari 70"
   ]
  },
  {
   "cell_type": "code",
   "execution_count": 3,
   "metadata": {},
   "outputs": [
    {
     "name": "stdout",
     "output_type": "stream",
     "text": [
      "Nilai di atas 70:\n",
      "[76, 76, 87, 92, 72, 93, 74, 79, 83, 95, 87, 93, 81, 82, 83, 75, 85, 74, 87, 81, 72, 78, 71, 90, 77, 85, 83, 87, 77, 94, 74, 93, 89, 80, 79, 91, 82, 72, 94, 82, 89, 80, 82, 90, 72, 77, 75, 88, 94, 84, 90, 78, 72, 86, 79, 79, 80, 88, 71, 83, 89, 80, 81, 99, 77, 74, 90, 97, 88, 97, 78, 86, 78, 95]\n"
     ]
    }
   ],
   "source": [
    "nilaiDiatas70 = []\n",
    "for x in nilaiTugas:\n",
    "    if (x>70):\n",
    "        nilaiDiatas70.append(x)\n",
    "        \n",
    "print('Nilai di atas 70:')\n",
    "print(nilaiDiatas70)"
   ]
  },
  {
   "cell_type": "markdown",
   "metadata": {},
   "source": [
    "# Mencari Standar Deviasi"
   ]
  },
  {
   "cell_type": "code",
   "execution_count": 4,
   "metadata": {},
   "outputs": [
    {
     "name": "stdout",
     "output_type": "stream",
     "text": [
      "Standar Deviasi : 28.7027768271706\n"
     ]
    }
   ],
   "source": [
    "#standar deviasi\n",
    "#import statistics\n",
    "#print (statistics.stdev(nilaiTugas)) -> untuk coba, apakah keluarannya sama atau tidak\n",
    "import math\n",
    "\n",
    "jumlah = 0\n",
    "for i in nilaiTugas:\n",
    "    jumlah = jumlah + i\n",
    "\n",
    "rerata = jumlah / len(nilaiTugas)\n",
    "\n",
    "sigma = 0;\n",
    "for i in nilaiTugas:\n",
    "    sigma = sigma + (i - rerata)**2\n",
    "\n",
    "varian = sigma / (len(nilaiTugas)-1)\n",
    "\n",
    "stdDeviasi = math.sqrt(varian)\n",
    "print ('Standar Deviasi :', stdDeviasi)"
   ]
  },
  {
   "cell_type": "markdown",
   "metadata": {},
   "source": [
    "# Mencari Nilai Maksimun dan Nilai Minimum"
   ]
  },
  {
   "cell_type": "code",
   "execution_count": 5,
   "metadata": {},
   "outputs": [
    {
     "name": "stdout",
     "output_type": "stream",
     "text": [
      "Nilai Maksimum:  99\n",
      "Nilai Minimum:  1\n"
     ]
    }
   ],
   "source": [
    "#inisialisasi max dan min\n",
    "nilaiMax = -1\n",
    "nilaiMin = 999\n",
    "\n",
    "for i in nilaiTugas:\n",
    "    if (nilaiMax < i):\n",
    "        nilaiMax = i\n",
    "    if (nilaiMin > i):\n",
    "        nilaiMin = i\n",
    "\n",
    "#nilai maximum\n",
    "print('Nilai Maksimum: ', nilaiMax)\n",
    "\n",
    "#nilai minimum\n",
    "print('Nilai Minimum: ', nilaiMin)"
   ]
  },
  {
   "cell_type": "markdown",
   "metadata": {},
   "source": [
    "# Mencari Modus\n"
   ]
  },
  {
   "cell_type": "code",
   "execution_count": 6,
   "metadata": {},
   "outputs": [
    {
     "name": "stdout",
     "output_type": "stream",
     "text": [
      "\n",
      "Modus:  [69, 55] (Bimodal)\n"
     ]
    }
   ],
   "source": [
    "freq = {}\n",
    "for i in nilaiTugas:\n",
    "    if (i in freq):\n",
    "        freq[i] = freq[i]+1;\n",
    "    else:\n",
    "        freq[i] = 1\n",
    "\n",
    "maxFreq = 0\n",
    "maxFreqItem = [];\n",
    "for j in freq:\n",
    "    if maxFreq < freq[j]:\n",
    "        maxFreq = freq[j]\n",
    "        maxFreqItem = [j]\n",
    "    elif (maxFreq == freq[j]):\n",
    "        maxFreqItem.append(j)\n",
    "        \n",
    "if len(maxFreqItem)==1:\n",
    "    print ('\\nModus: ', maxFreqItem)\n",
    "elif len(maxFreqItem)==2:\n",
    "    print ('\\nModus: ', maxFreqItem, '(Bimodal)')\n",
    "else:\n",
    "    print ('\\nModus: ', maxFreqItem, '(Multimodal)')"
   ]
  }
 ],
 "metadata": {
  "kernelspec": {
   "display_name": "Python 3",
   "language": "python",
   "name": "python3"
  },
  "language_info": {
   "codemirror_mode": {
    "name": "ipython",
    "version": 3
   },
   "file_extension": ".py",
   "mimetype": "text/x-python",
   "name": "python",
   "nbconvert_exporter": "python",
   "pygments_lexer": "ipython3",
   "version": "3.7.0"
  }
 },
 "nbformat": 4,
 "nbformat_minor": 2
}
