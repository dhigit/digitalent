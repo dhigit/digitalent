{
 "cells": [
  {
   "cell_type": "code",
   "execution_count": 3,
   "metadata": {},
   "outputs": [
    {
     "name": "stdout",
     "output_type": "stream",
     "text": [
      "Jumlah Link:  255\n"
     ]
    }
   ],
   "source": [
    "# prepare\n",
    "import urllib\n",
    "r = urllib.request.urlopen('http://tekno.kompas.com/').read()\n",
    "\n",
    "from bs4 import BeautifulSoup \n",
    "soup = BeautifulSoup(r,\"lxml\")\n",
    "links = soup.find_all('a')\n",
    "print(\"Jumlah Link: \", len(links))"
   ]
  },
  {
   "cell_type": "code",
   "execution_count": 9,
   "metadata": {},
   "outputs": [
    {
     "name": "stdout",
     "output_type": "stream",
     "text": [
      "Jumlah Link Berita 71\n"
     ]
    }
   ],
   "source": [
    "# cari hanya link berita\n",
    "berita_link = [link for link in links if '/read/' in str(link) and 'javascript:void(0)' not in str(link) \n",
    "               and '#' not in str(link)]\n",
    "print(\"Jumlah Link Berita\", len(berita_link))"
   ]
  },
  {
   "cell_type": "code",
   "execution_count": 42,
   "metadata": {},
   "outputs": [],
   "source": [
    "# ambil berita\n",
    "scrap = []\n",
    "n = len(berita_link) #jumlah berita yang ingin di-scrap gunakan 'len(berita_link)' untuk mengambil semua berita\n",
    "for i in range (0, n):\n",
    "    url = berita_link[i][\"href\"]\n",
    "    \n",
    "    html = urllib.request.urlopen(url).read()\n",
    "    soup = BeautifulSoup(html, \"lxml\")\n",
    "    judul = soup.select(\".read__title\")[0].text.strip()\n",
    "    isi_berita = soup.select(\".read__content\")[0].text.strip().replace('\\n',' ').replace('\\r','')\n",
    "    tanggal = soup.select(\".read__time\")[0].text.strip()\n",
    "    tanggal = tanggal.strip().split('-')[1].split(',')[0].strip()\n",
    "\n",
    "    scrap.append([\n",
    "        tanggal,\n",
    "        url,\n",
    "        judul,\n",
    "        isi_berita\n",
    "    ])\n",
    "    \n",
    "# print (scrap)\n",
    "    "
   ]
  },
  {
   "cell_type": "code",
   "execution_count": 43,
   "metadata": {},
   "outputs": [],
   "source": [
    "import csv\n",
    "\n",
    "with open('data_kompas.csv', 'w') as f:\n",
    "    writer = csv.writer(f)\n",
    "    writer.writerows(scrap)"
   ]
  }
 ],
 "metadata": {
  "kernelspec": {
   "display_name": "Python 3",
   "language": "python",
   "name": "python3"
  },
  "language_info": {
   "codemirror_mode": {
    "name": "ipython",
    "version": 3
   },
   "file_extension": ".py",
   "mimetype": "text/x-python",
   "name": "python",
   "nbconvert_exporter": "python",
   "pygments_lexer": "ipython3",
   "version": "3.7.0"
  }
 },
 "nbformat": 4,
 "nbformat_minor": 2
}
